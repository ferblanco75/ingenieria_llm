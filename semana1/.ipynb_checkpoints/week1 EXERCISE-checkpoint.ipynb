{
 "cells": [
  {
   "cell_type": "markdown",
   "id": "fe12c203-e6a6-452c-a655-afb8a03a4ff5",
   "metadata": {},
   "source": [
    "# Ejercicio final de la semana 1\n",
    "\n",
    "Para demostrar que estás familiarizado con la API de OpenAI y también con Ollama, crea una herramienta que responda a una pregunta técnica\n",
    "y la explique. ¡Esta es una herramienta que podrás usar durante el curso!"
   ]
  },
  {
   "cell_type": "code",
   "execution_count": 1,
   "id": "c1070317-3ed9-4659-abe3-828943230e03",
   "metadata": {},
   "outputs": [],
   "source": [
    "# imports\n",
    "\n",
    "#aca tengo que hacer los imports\n",
    "# Si esto falla, verifica que esté ejecutándose desde un entorno \"activado\" con (llms) en el símbolo del sistema\n",
    "\n",
    "import os\n",
    "import requests\n",
    "import json\n",
    "from typing import List\n",
    "from dotenv import load_dotenv\n",
    "from bs4 import BeautifulSoup\n",
    "from IPython.display import Markdown, display, update_display\n",
    "from openai import OpenAI"
   ]
  },
  {
   "cell_type": "code",
   "execution_count": 10,
   "id": "4a456906-915a-4bfd-bb9d-57e505c5093f",
   "metadata": {},
   "outputs": [],
   "source": [
    "# constantes\n",
    "\n",
    "\n",
    "OLLAMA_API = \"http://localhost:11434/api/chat\"\n",
    "HEADERS = {\"Content-Type\": \"application/json\"}\n",
    "MODEL_GPT = 'gpt-4o-mini'\n",
    "MODEL_LLAMA = 'llama3.2'\n"
   ]
  },
  {
   "cell_type": "code",
   "execution_count": 11,
   "id": "a8d7923c-5f28-4c30-8556-342d7c8497c1",
   "metadata": {},
   "outputs": [
    {
     "name": "stdout",
     "output_type": "stream",
     "text": [
      "La clave de API parece buena\n"
     ]
    }
   ],
   "source": [
    "# Configura el entorno\n",
    "\n",
    "#configuro el entorno que tiene el if que dice si la llave de openai es buena o parece buena\n",
    "load_dotenv()\n",
    "api_key = os.getenv('OPENAI_API_KEY')\n",
    "\n",
    "if api_key and api_key[:8]=='sk-proj-':\n",
    "    print(\"La clave de API parece buena\")\n",
    "else:\n",
    "    print(\"¿Puede haber un problema con tu clave API? ¡Visita el cuaderno de resolución de problemas!\")\n",
    "\n",
    "\n",
    "openai = OpenAI()"
   ]
  },
  {
   "cell_type": "code",
   "execution_count": 31,
   "id": "3f0d0137-52b0-47a8-81a8-11a90a010798",
   "metadata": {},
   "outputs": [
    {
     "name": "stdout",
     "output_type": "stream",
     "text": [
      "Respondiendo como si fueses un especialista en desarrollo web debes explicar que hace el código que van a pasarteDebes responder lo mas detallado posible. dando ejemplos\n"
     ]
    }
   ],
   "source": [
    "# Aquí está la pregunta; escribe sobre esto para preguntar algo nuevo\n",
    "#aca debo setear los 2 prompts\n",
    "\n",
    "system_prompt = \"Respondiendo como si fueses un especialista en desarrollo web debes explicar que hace el código que van a pasarte\"\n",
    "system_prompt += \"Debes responder lo mas detallado posible. dando ejemplos\"\n",
    "\n",
    "\n",
    "user_prompt = \"\"\"\n",
    "Explica qué hace este código y por qué:\n",
    "yield from {book.get(\"author\") for book in books if book.get(\"author\")}\n",
    "\"\"\"\n",
    "\n",
    "\n",
    "    \n",
    "print(system_prompt)"
   ]
  },
  {
   "cell_type": "code",
   "execution_count": 32,
   "id": "60ce7000-a4a5-4cce-a261-e75ef45063b4",
   "metadata": {},
   "outputs": [
    {
     "data": {
      "text/markdown": [
       "El código que has proporcionado se utiliza en un contexto de desarrollo web (o una aplicación de Python en general) para gestionar y utilizar una clave de API (Application Programming Interface) para interactuar con la API de OpenAI. Voy a desglosarlo línea por línea.\n",
       "\n",
       "### Explicación del Código\n",
       "\n",
       "1. **`load_dotenv()`**:\n",
       "   - Esta función proviene de la librería `python-dotenv`. Su propósito es cargar variables de entorno desde un archivo `.env` en el directorio del proyecto. \n",
       "   - Esto permite que las aplicaciones mantengan datos sensibles, como claves de API y credenciales, fuera del código fuente, proporcionando una forma de gestionar configuraciones sin exponer información sensible.\n",
       "   - **Ejemplo**: Si tienes un archivo `.env` que contiene `OPENAI_API_KEY=sk-proj-your_generated_api_key`, al llamar a `load_dotenv()`, esta variable estará disponible en el entorno del programa.\n",
       "\n",
       "2. **`api_key = os.getenv('OPENAI_API_KEY')`**:\n",
       "   - Aquí se está utilizando `os.getenv` para acceder a la variable de entorno que se cargó previamente. Busca una variable llamada `OPENAI_API_KEY` y, si existe, la asigna a `api_key`. \n",
       "   - Si `OPENAI_API_KEY` no está presente en el entorno, `api_key` tomará un valor de `None`.\n",
       "   - **Ejemplo**: Si en el archivo `.env` tienes `OPENAI_API_KEY=sk-proj-your_generated_api_key`, entonces `api_key` ahora contendrá `sk-proj-your_generated_api_key`.\n",
       "\n",
       "3. **Verificación de la clave API**:\n",
       "   python\n",
       "   if api_key and api_key[:8] == 'sk-proj-':\n",
       "       print(\"La clave de API parece buena\")\n",
       "   else:\n",
       "       print(\"¿Puede haber un problema con tu clave API? ¡Visita el cuaderno de resolución de problemas!\")\n",
       "   \n",
       "   - En esta sección, se verifica si `api_key` tiene un valor y si empieza con la cadena `'sk-proj-'`.\n",
       "   - El prefijo `'sk-proj-'` es un identificador que indica que esto es una clave de API generada por OpenAI. Si la clave cumple con esta condición, imprime un mensaje que indica que la clave parece válida.\n",
       "   - Si no, imprime un mensaje de advertencia sugiriendo que podría haber un problema con la clave API.\n",
       "   - **Ejemplo**: Si `api_key` es `sk-proj-your_generated_api_key`, el programa imprimirá \"La clave de API parece buena\". Pero si `api_key` es `invalid_key`, imprimirá el mensaje de advertencia.\n",
       "\n",
       "4. **`openai = OpenAI()`**:\n",
       "   - Esta línea probablemente está creando una instancia de una clase llamada `OpenAI`. Aunque no se proporciona el contexto de la clase, se asume que es parte de una librería (como `openai`) que permite interactuar con la API de OpenAI de manera más sencilla.\n",
       "   - Esta instancia `openai` podrá ser utilizada posteriormente en el código para realizar llamadas a la API, como generar texto, análisis de texto, entre otras funcionalidades que ofrece la API de OpenAI.\n",
       "   - **Ejemplo**: Podrías usar `openai` para llamar a métodos como `openai.Completion.create(...)`, que permite generar un texto basado en un prompt.\n",
       "\n",
       "### Conclusión\n",
       "\n",
       "El código es un fragmento que se asegura de que una clave API se haya cargado correctamente desde el entorno y verifica si parece ser válida. Esto es crucial en el desarrollo web para asegurar que la aplicación pueda autenticar correctamente sus solicitudes a la API de OpenAI sin comprometer la seguridad de las credenciales. Esto proporciona una forma profesional de manejar configuraciones y a la vez promover una buena práctica de seguridad al no incluir valores sensibles directamente en el código fuente."
      ],
      "text/plain": [
       "<IPython.core.display.Markdown object>"
      ]
     },
     "metadata": {},
     "output_type": "display_data"
    },
    {
     "name": "stdout",
     "output_type": "stream",
     "text": [
      "Respuesta final completa:\n",
      "El código que has proporcionado se utiliza en un contexto de desarrollo web (o una aplicación de Python en general) para gestionar y utilizar una clave de API (Application Programming Interface) para interactuar con la API de OpenAI. Voy a desglosarlo línea por línea.\n",
      "\n",
      "### Explicación del Código\n",
      "\n",
      "1. **`load_dotenv()`**:\n",
      "   - Esta función proviene de la librería `python-dotenv`. Su propósito es cargar variables de entorno desde un archivo `.env` en el directorio del proyecto. \n",
      "   - Esto permite que las aplicaciones mantengan datos sensibles, como claves de API y credenciales, fuera del código fuente, proporcionando una forma de gestionar configuraciones sin exponer información sensible.\n",
      "   - **Ejemplo**: Si tienes un archivo `.env` que contiene `OPENAI_API_KEY=sk-proj-your_generated_api_key`, al llamar a `load_dotenv()`, esta variable estará disponible en el entorno del programa.\n",
      "\n",
      "2. **`api_key = os.getenv('OPENAI_API_KEY')`**:\n",
      "   - Aquí se está utilizando `os.getenv` para acceder a la variable de entorno que se cargó previamente. Busca una variable llamada `OPENAI_API_KEY` y, si existe, la asigna a `api_key`. \n",
      "   - Si `OPENAI_API_KEY` no está presente en el entorno, `api_key` tomará un valor de `None`.\n",
      "   - **Ejemplo**: Si en el archivo `.env` tienes `OPENAI_API_KEY=sk-proj-your_generated_api_key`, entonces `api_key` ahora contendrá `sk-proj-your_generated_api_key`.\n",
      "\n",
      "3. **Verificación de la clave API**:\n",
      "   python\n",
      "   if api_key and api_key[:8] == 'sk-proj-':\n",
      "       print(\"La clave de API parece buena\")\n",
      "   else:\n",
      "       print(\"¿Puede haber un problema con tu clave API? ¡Visita el cuaderno de resolución de problemas!\")\n",
      "   \n",
      "   - En esta sección, se verifica si `api_key` tiene un valor y si empieza con la cadena `'sk-proj-'`.\n",
      "   - El prefijo `'sk-proj-'` es un identificador que indica que esto es una clave de API generada por OpenAI. Si la clave cumple con esta condición, imprime un mensaje que indica que la clave parece válida.\n",
      "   - Si no, imprime un mensaje de advertencia sugiriendo que podría haber un problema con la clave API.\n",
      "   - **Ejemplo**: Si `api_key` es `sk-proj-your_generated_api_key`, el programa imprimirá \"La clave de API parece buena\". Pero si `api_key` es `invalid_key`, imprimirá el mensaje de advertencia.\n",
      "\n",
      "4. **`openai = OpenAI()`**:\n",
      "   - Esta línea probablemente está creando una instancia de una clase llamada `OpenAI`. Aunque no se proporciona el contexto de la clase, se asume que es parte de una librería (como `openai`) que permite interactuar con la API de OpenAI de manera más sencilla.\n",
      "   - Esta instancia `openai` podrá ser utilizada posteriormente en el código para realizar llamadas a la API, como generar texto, análisis de texto, entre otras funcionalidades que ofrece la API de OpenAI.\n",
      "   - **Ejemplo**: Podrías usar `openai` para llamar a métodos como `openai.Completion.create(...)`, que permite generar un texto basado en un prompt.\n",
      "\n",
      "### Conclusión\n",
      "\n",
      "El código es un fragmento que se asegura de que una clave API se haya cargado correctamente desde el entorno y verifica si parece ser válida. Esto es crucial en el desarrollo web para asegurar que la aplicación pueda autenticar correctamente sus solicitudes a la API de OpenAI sin comprometer la seguridad de las credenciales. Esto proporciona una forma profesional de manejar configuraciones y a la vez promover una buena práctica de seguridad al no incluir valores sensibles directamente en el código fuente.\n"
     ]
    }
   ],
   "source": [
    "# Haz que gpt-4o-mini responda, con streaming\n",
    "def python_expert():\n",
    "    # Llamada al modelo con streaming habilitado\n",
    "    stream = openai.chat.completions.create(\n",
    "        model=MODEL_GPT,\n",
    "        messages=[\n",
    "            {\"role\": \"system\", \"content\": system_prompt},\n",
    "            {\"role\": \"user\", \"content\": user_prompt}\n",
    "        ],\n",
    "        stream=True  # Habilitar streaming\n",
    "    )\n",
    "    response = \"\"\n",
    "    display_handle = display(Markdown(\"\"), display_id=True)\n",
    "        #response_format={\"type\": \"json_object\"}\n",
    "    \n",
    "    for chunk in stream:\n",
    "        response += chunk.choices[0].delta.content or ''\n",
    "        response = response.replace(\"```\",\"\").replace(\"markdown\", \"\")\n",
    "        update_display(Markdown(response), display_id=display_handle.display_id)\n",
    "\n",
    "    return response\n",
    "\n",
    "\n",
    "# Llamada a la función\n",
    "final_response = python_expert()\n",
    "print(\"Respuesta final completa:\")\n",
    "print(final_response)"
   ]
  },
  {
   "cell_type": "code",
   "execution_count": 30,
   "id": "8f7c8ea8-4082-4ad0-8751-3301adcf6538",
   "metadata": {},
   "outputs": [
    {
     "name": "stdout",
     "output_type": "stream",
     "text": [
      "Respuesta final completa:\n",
      "El código que proporcionaste es un fragmento en Python que hace uso de la expresión `yield from` en combinación con un conjunto de comprensión (set comprehension) para extraer autores de una colección de libros. Vamos a desglosarlo y entender cada parte:\n",
      "\n",
      "### Desglose del Código\n",
      "\n",
      "1. **`{book.get(\"author\") for book in books if book.get(\"author\")}`**:\n",
      "   - Este componente es una **expresión de comprensión de conjuntos** (set comprehension).\n",
      "   - **`for book in books`**: Itera sobre cada elemento de la colección `books`. Supongamos que `books` es una lista de diccionarios, donde cada diccionario representa un libro y contiene claves como `\"title\"` y `\"author\"`.\n",
      "   - **`book.get(\"author\")`**: Para cada libro, intenta obtener el valor del campo `\"author\"`. El método `get` es seguro porque devuelve `None` si la clave no existe, en lugar de generar un error.\n",
      "   - **`if book.get(\"author\")`**: Este es un **filtro** que asegura que solo se incluyan en el conjunto las autores que tienen un valor, es decir, en caso de que `book.get(\"author\")` se evalúe como verdadero (no `None` o un string vacío).\n",
      "   - **Resultado**: La expresión completa generará un conjunto (set) de nombres de autores únicos que se encuentran en la lista `books`.\n",
      "\n",
      "2. **`yield from`**:\n",
      "   - La declaración `yield from` se utiliza en una función generadora para simplificar el proceso de generar valores de otro iterador.\n",
      "   - En este caso, `yield from` se utilizaría para devolver cada uno de los elementos del conjunto de autores generados en el paso anterior uno por uno, en lugar de tener que usar un bucle adicional para iterar sobre ese conjunto.\n",
      "\n",
      "### Ejemplo\n",
      "\n",
      "Supongamos que tienes la siguiente lista de libros:\n",
      "\n",
      "python\n",
      "books = [\n",
      "    {\"title\": \"Book 1\", \"author\": \"Author A\"},\n",
      "    {\"title\": \"Book 2\", \"author\": \"Author B\"},\n",
      "    {\"title\": \"Book 3\", \"author\": None},\n",
      "    {\"title\": \"Book 4\", \"author\": \"Author A\"},\n",
      "]\n",
      "\n",
      "\n",
      "Ejecutamos el fragmento de código:\n",
      "\n",
      "python\n",
      "authors = {book.get(\"author\") for book in books if book.get(\"author\")}\n",
      "# Esto generará el conjunto: {'Author A', 'Author B'}\n",
      "\n",
      "\n",
      "Ahora, si utilizamos `yield from` en el contexto de una función generadora:\n",
      "\n",
      "python\n",
      "def generate_authors(books):\n",
      "    yield from {book.get(\"author\") for book in books if book.get(\"author\")}\n",
      "\n",
      "\n",
      "Llamar a `list(generate_authors(books))` generará:\n",
      "\n",
      "python\n",
      "['Author A', 'Author B']\n",
      "\n",
      "\n",
      "### Resumen\n",
      "\n",
      "En resumen, el código recoge de manera eficiente los nombres de los autores de una lista de libros, asegurándose de obtener solo aquellos que tienen un nombre válido (no nulo o vacío) y devuelve cada autor de forma individual usando `yield from`. Esto es útil en aplicaciones donde se necesita procesar o trabajar con listas de manera más eficiente por medio de generadores.\n"
     ]
    }
   ],
   "source": [
    "# Haz que Llama 3.2 responda\n",
    "print(\"Respuesta final completa:\")\n",
    "print(final_response)"
   ]
  },
  {
   "cell_type": "code",
   "execution_count": null,
   "id": "39b66e3f-a801-4c35-8338-2fedc92343d5",
   "metadata": {},
   "outputs": [],
   "source": []
  }
 ],
 "metadata": {
  "kernelspec": {
   "display_name": "Python 3 (ipykernel)",
   "language": "python",
   "name": "python3"
  },
  "language_info": {
   "codemirror_mode": {
    "name": "ipython",
    "version": 3
   },
   "file_extension": ".py",
   "mimetype": "text/x-python",
   "name": "python",
   "nbconvert_exporter": "python",
   "pygments_lexer": "ipython3",
   "version": "3.11.13"
  }
 },
 "nbformat": 4,
 "nbformat_minor": 5
}
